{
 "cells": [
  {
   "cell_type": "markdown",
   "id": "5d52588b",
   "metadata": {
    "papermill": {
     "duration": 0.002025,
     "end_time": "2023-05-03T04:38:28.324715",
     "exception": false,
     "start_time": "2023-05-03T04:38:28.322690",
     "status": "completed"
    },
    "tags": []
   },
   "source": [
    "## Data Visualization\n",
    "\n",
    "### Analysis by Lauren Main\n",
    "\n",
    "### Feature Tasks Version 1.0\n",
    "\n",
    "Using two datasets load and analyze the data.\n",
    "\n",
    "Summarize your insights. \n",
    "\n",
    "Visualize your insights with at least two illustrations per set. \n",
    "\n"
   ]
  },
  {
   "cell_type": "code",
   "execution_count": 1,
   "id": "15364343",
   "metadata": {
    "_cell_guid": "b1076dfc-b9ad-4769-8c92-a6c4dae69d19",
    "_uuid": "8f2839f25d086af736a60e9eeb907d3b93b6e0e5",
    "execution": {
     "iopub.execute_input": "2023-05-03T04:38:28.330433Z",
     "iopub.status.busy": "2023-05-03T04:38:28.329902Z",
     "iopub.status.idle": "2023-05-03T04:38:29.689891Z",
     "shell.execute_reply": "2023-05-03T04:38:29.688887Z"
    },
    "papermill": {
     "duration": 1.365777,
     "end_time": "2023-05-03T04:38:29.692317",
     "exception": false,
     "start_time": "2023-05-03T04:38:28.326540",
     "status": "completed"
    },
    "tags": []
   },
   "outputs": [
    {
     "name": "stderr",
     "output_type": "stream",
     "text": [
      "/opt/conda/lib/python3.10/site-packages/scipy/__init__.py:146: UserWarning: A NumPy version >=1.16.5 and <1.23.0 is required for this version of SciPy (detected version 1.23.5\n",
      "  warnings.warn(f\"A NumPy version >={np_minversion} and <{np_maxversion}\"\n"
     ]
    }
   ],
   "source": [
    "import numpy as np \n",
    "import pandas as pd \n",
    "import seaborn as sns\n",
    "import matplotlib.pyplot as plt"
   ]
  },
  {
   "cell_type": "code",
   "execution_count": 2,
   "id": "58a272f0",
   "metadata": {
    "execution": {
     "iopub.execute_input": "2023-05-03T04:38:29.698237Z",
     "iopub.status.busy": "2023-05-03T04:38:29.697319Z",
     "iopub.status.idle": "2023-05-03T04:38:30.519573Z",
     "shell.execute_reply": "2023-05-03T04:38:30.518266Z"
    },
    "papermill": {
     "duration": 0.827704,
     "end_time": "2023-05-03T04:38:30.521930",
     "exception": false,
     "start_time": "2023-05-03T04:38:29.694226",
     "status": "completed"
    },
    "tags": []
   },
   "outputs": [
    {
     "data": {
      "text/html": [
       "<div>\n",
       "<style scoped>\n",
       "    .dataframe tbody tr th:only-of-type {\n",
       "        vertical-align: middle;\n",
       "    }\n",
       "\n",
       "    .dataframe tbody tr th {\n",
       "        vertical-align: top;\n",
       "    }\n",
       "\n",
       "    .dataframe thead th {\n",
       "        text-align: right;\n",
       "    }\n",
       "</style>\n",
       "<table border=\"1\" class=\"dataframe\">\n",
       "  <thead>\n",
       "    <tr style=\"text-align: right;\">\n",
       "      <th></th>\n",
       "      <th>Date</th>\n",
       "      <th>Extent</th>\n",
       "    </tr>\n",
       "  </thead>\n",
       "  <tbody>\n",
       "    <tr>\n",
       "      <th>0</th>\n",
       "      <td>1980-01-01</td>\n",
       "      <td>14.200</td>\n",
       "    </tr>\n",
       "    <tr>\n",
       "      <th>1</th>\n",
       "      <td>1980-01-03</td>\n",
       "      <td>14.302</td>\n",
       "    </tr>\n",
       "    <tr>\n",
       "      <th>2</th>\n",
       "      <td>1980-01-05</td>\n",
       "      <td>14.414</td>\n",
       "    </tr>\n",
       "    <tr>\n",
       "      <th>3</th>\n",
       "      <td>1980-01-07</td>\n",
       "      <td>14.518</td>\n",
       "    </tr>\n",
       "    <tr>\n",
       "      <th>4</th>\n",
       "      <td>1980-01-09</td>\n",
       "      <td>14.594</td>\n",
       "    </tr>\n",
       "    <tr>\n",
       "      <th>...</th>\n",
       "      <td>...</td>\n",
       "      <td>...</td>\n",
       "    </tr>\n",
       "    <tr>\n",
       "      <th>13170</th>\n",
       "      <td>2019-12-27</td>\n",
       "      <td>12.721</td>\n",
       "    </tr>\n",
       "    <tr>\n",
       "      <th>13171</th>\n",
       "      <td>2019-12-28</td>\n",
       "      <td>12.712</td>\n",
       "    </tr>\n",
       "    <tr>\n",
       "      <th>13172</th>\n",
       "      <td>2019-12-29</td>\n",
       "      <td>12.780</td>\n",
       "    </tr>\n",
       "    <tr>\n",
       "      <th>13173</th>\n",
       "      <td>2019-12-30</td>\n",
       "      <td>12.858</td>\n",
       "    </tr>\n",
       "    <tr>\n",
       "      <th>13174</th>\n",
       "      <td>2019-12-31</td>\n",
       "      <td>12.889</td>\n",
       "    </tr>\n",
       "  </tbody>\n",
       "</table>\n",
       "<p>13175 rows × 2 columns</p>\n",
       "</div>"
      ],
      "text/plain": [
       "            Date  Extent\n",
       "0     1980-01-01  14.200\n",
       "1     1980-01-03  14.302\n",
       "2     1980-01-05  14.414\n",
       "3     1980-01-07  14.518\n",
       "4     1980-01-09  14.594\n",
       "...          ...     ...\n",
       "13170 2019-12-27  12.721\n",
       "13171 2019-12-28  12.712\n",
       "13172 2019-12-29  12.780\n",
       "13173 2019-12-30  12.858\n",
       "13174 2019-12-31  12.889\n",
       "\n",
       "[13175 rows x 2 columns]"
      ]
     },
     "execution_count": 2,
     "metadata": {},
     "output_type": "execute_result"
    }
   ],
   "source": [
    "sns.get_dataset_names()\n",
    "df = sns.load_dataset(\"seaice\")\n",
    "df.head()\n",
    "df"
   ]
  }
 ],
 "metadata": {
  "kernelspec": {
   "display_name": "Python 3",
   "language": "python",
   "name": "python3"
  },
  "language_info": {
   "codemirror_mode": {
    "name": "ipython",
    "version": 3
   },
   "file_extension": ".py",
   "mimetype": "text/x-python",
   "name": "python",
   "nbconvert_exporter": "python",
   "pygments_lexer": "ipython3",
   "version": "3.10.10"
  },
  "papermill": {
   "default_parameters": {},
   "duration": 13.718689,
   "end_time": "2023-05-03T04:38:31.546594",
   "environment_variables": {},
   "exception": null,
   "input_path": "__notebook__.ipynb",
   "output_path": "__notebook__.ipynb",
   "parameters": {},
   "start_time": "2023-05-03T04:38:17.827905",
   "version": "2.4.0"
  }
 },
 "nbformat": 4,
 "nbformat_minor": 5
}
